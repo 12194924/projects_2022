{
  "nbformat": 4,
  "nbformat_minor": 0,
  "metadata": {
    "colab": {
      "private_outputs": true,
      "provenance": [],
      "authorship_tag": "ABX9TyO/Y0u+z63kK6EtLD9MNADm",
      "include_colab_link": true
    },
    "kernelspec": {
      "name": "python3",
      "display_name": "Python 3"
    },
    "language_info": {
      "name": "python"
    }
  },
  "cells": [
    {
      "cell_type": "markdown",
      "metadata": {
        "id": "view-in-github",
        "colab_type": "text"
      },
      "source": [
        "<a href=\"https://colab.research.google.com/github/12194924/projects_2022/blob/main/Untitled3.ipynb\" target=\"_parent\"><img src=\"https://colab.research.google.com/assets/colab-badge.svg\" alt=\"Open In Colab\"/></a>"
      ]
    },
    {
      "cell_type": "code",
      "execution_count": null,
      "metadata": {
        "id": "LVpTmmb3qFmZ"
      },
      "outputs": [],
      "source": [
        "pip install tensorflow==1.15.5"
      ]
    },
    {
      "cell_type": "code",
      "source": [
        "import os\n",
        "import numpy as np\n",
        "import zipfile\n",
        "from urllib import request\n",
        "import matplotlib.pyplot as plt\n",
        "import matplotlib.image as mpimg\n",
        "import random\n",
        "import tensorflow as tf\n",
        "import cv2\n"
      ],
      "metadata": {
        "id": "Ewt4iT5ar_RL"
      },
      "execution_count": null,
      "outputs": []
    },
    {
      "cell_type": "code",
      "source": [
        "# Importing the dataset\n",
        "# url https:www.kaggle.com/zalando-research/fashionmnist\n",
        "# kaggle datasets download -d zalando-research/fashionmnist\n",
        "\n",
        "img_database = np.loadtxt('fashion-mnist_train.csv', delimiter=',', skiprows=1)[:,1:]\n",
        "#looking at the shape of the file\n",
        "print(img_database.shape)\n",
        "\n",
        "\n",
        "total_num_images = (img_database.shape[0])"
      ],
      "metadata": {
        "id": "_yxlE1bisuxz"
      },
      "execution_count": null,
      "outputs": []
    }
  ]
}